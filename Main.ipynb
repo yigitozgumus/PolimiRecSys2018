{
 "cells": [
  {
   "cell_type": "code",
   "execution_count": 2,
   "metadata": {},
   "outputs": [],
   "source": [
    "from data.PlaylistDataReader import PlaylistDataReader\n",
    "from utils.logger import Logger\n",
    "from utils.config import clear, Configurator\n",
    "import argparse\n",
    "\n"
   ]
  },
  {
   "cell_type": "code",
   "execution_count": null,
   "metadata": {},
   "outputs": [],
   "source": [
    "conf = Configurator(configs/item_knn_cbf.json)\n",
    "\n",
    "data_reader = PlaylistDataReader()\n",
    "data_reader.build_URM()\n",
    "data_reader.build_UCM()\n",
    "data_reader.build_ICM()\n",
    "data_reader.split()\n",
    "l = Logger(data_reader.targetData, logFile)\n",
    "# Prepare the models\n",
    "rec_sys = conf.extract_models(data_reader)\n",
    "# Shrink exp\n",
    "for method in conf.configs.shrink:\n",
    "    for k in conf.configs.neighbourhood:\n",
    "        for model in rec_sys:\n",
    "            model.fit(shrink=method,k=k)  # Train the models\n",
    "            model.evaluate_recommendations(data_reader.URM_test, at=10, exclude_seen=True)  # make prediction\n",
    "            print(model.parameters)"
   ]
  }
 ],
 "metadata": {
  "kernelspec": {
   "display_name": "Python 3",
   "language": "python",
   "name": "python3"
  },
  "language_info": {
   "codemirror_mode": {
    "name": "ipython",
    "version": 3
   },
   "file_extension": ".py",
   "mimetype": "text/x-python",
   "name": "python",
   "nbconvert_exporter": "python",
   "pygments_lexer": "ipython3",
   "version": "3.6.6"
  }
 },
 "nbformat": 4,
 "nbformat_minor": 2
}
