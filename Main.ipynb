{
 "cells": [
  {
   "cell_type": "markdown",
   "metadata": {},
   "source": [
    "## Import the libraries and the DataReader"
   ]
  },
  {
   "cell_type": "code",
   "execution_count": 1,
   "metadata": {},
   "outputs": [],
   "source": [
    "# All outputs are visible\n",
    "from IPython.core.interactiveshell import InteractiveShell\n",
    "InteractiveShell.ast_node_interactivity = \"all\"\n",
    "#Retina resolution for the plots\n",
    "from IPython.display import set_matplotlib_formats\n",
    "set_matplotlib_formats('retina')\n",
    "# All plots contained in the notebook\n",
    "%matplotlib inline\n"
   ]
  },
  {
   "cell_type": "code",
   "execution_count": 2,
   "metadata": {},
   "outputs": [],
   "source": [
    "from data.PlaylistDataReader import PlaylistDataReader\n",
    "from utils.logger import Logger\n",
    "from utils.config import clear, Configurator\n",
    "import argparse\n",
    "\n"
   ]
  },
  {
   "cell_type": "code",
   "execution_count": 3,
   "metadata": {},
   "outputs": [
    {
     "name": "stdout",
     "output_type": "stream",
     "text": [
      "PlaylistDataReader: URM is imported from the saved data.\n",
      "PlaylistDataReader: ICM is imported from the saved data.\n",
      "PlaylistDataReader: URM train and test splits are imported from the saved data.\n"
     ]
    }
   ],
   "source": [
    "conf = Configurator(\"configs/item_knn_cbf.json\")\n",
    "\n",
    "data_reader = PlaylistDataReader()\n",
    "data_reader.generate_datasets()\n",
    "\n"
   ]
  },
  {
   "cell_type": "markdown",
   "metadata": {},
   "source": [
    "## Get the model Folders and Auxilary Method Implementations"
   ]
  },
  {
   "cell_type": "code",
   "execution_count": 222,
   "metadata": {},
   "outputs": [],
   "source": [
    "from contextlib import contextmanager\n",
    "import os\n",
    "# function for changing directory\n",
    "@contextmanager\n",
    "def working_directory(directory):\n",
    "    owd = os.getcwd()\n",
    "    try:\n",
    "        os.chdir(directory)\n",
    "        yield directory\n",
    "    finally:\n",
    "        os.chdir(owd)\n",
    "\n",
    "def getModelName(file):\n",
    "    lst = file.split(\"/\")\n",
    "    return lst[1]\n",
    "def getSimName(file,saved=False):\n",
    "    if saved:\n",
    "        index = -3\n",
    "    else:\n",
    "        index = -4\n",
    "    simList = [\"asymmetric\",\"tversky\",\"cosine\",\"jaccard\",\"dice\"]\n",
    "    lst = file.split(\"_\")\n",
    "    if lst[index] in simList:\n",
    "        return lst[index]\n",
    "    else:\n",
    "        return \"default\"\n",
    "    \n",
    "def getUniqueModelList(fileList):\n",
    "    models = [getModelName(i) for i in fileList]\n",
    "    return list(set(models))\n",
    "\n",
    "def packageWithModel(fileList,saved=False):\n",
    "    model_file = []\n",
    "    for file in fileList:\n",
    "        added = (getModelName(file),file,getSimName(file,saved))\n",
    "        model_file.append(added)\n",
    "    return model_file\n",
    "\n",
    "import os      \n",
    "import re\n",
    "filter = re.compile(r'\\..+|.+\\.txt$')\n",
    "parameterFolder = \"tuned_parameters\"\n",
    "listOfFolders = os.listdir(parameterFolder)\n",
    "filteredDirPaths = [parameterFolder+\"/\"+i for i in listOfFolders if not filter.search(i)]\n",
    "saved_parameterFolder = \"saved_parameters\"\n",
    "listofParameters = os.listdir(saved_parameterFolder)\n",
    "filteredSavedParameters = [saved_parameterFolder + \"/\" + i for i in listofParameters if not filter.search(i)]"
   ]
  },
  {
   "cell_type": "code",
   "execution_count": 207,
   "metadata": {},
   "outputs": [
    {
     "data": {
      "text/plain": [
       "['tuned_parameters/Slim_Elastic_Net_Recommender',\n",
       " 'tuned_parameters/UserKNNCFRecommender',\n",
       " 'tuned_parameters/SLIM_BPR_Recommender_mark1',\n",
       " 'tuned_parameters/ItemKNNCBFRecommender',\n",
       " 'tuned_parameters/P3_Alpha_Recommender',\n",
       " 'tuned_parameters/PureSVD',\n",
       " 'tuned_parameters/ItemTreeRecommender_offline',\n",
       " 'tuned_parameters/SLIM_BPR_Recommender_mark2',\n",
       " 'tuned_parameters/RP3_Beta_Recommender',\n",
       " 'tuned_parameters/ItemKNNCFRecommender']"
      ]
     },
     "execution_count": 207,
     "metadata": {},
     "output_type": "execute_result"
    }
   ],
   "source": [
    "filteredDirPaths"
   ]
  },
  {
   "cell_type": "markdown",
   "metadata": {},
   "source": [
    "# Get All the Files and Categorize them"
   ]
  },
  {
   "cell_type": "code",
   "execution_count": 245,
   "metadata": {},
   "outputs": [],
   "source": [
    "best_models = []\n",
    "best_model_parameters = []\n",
    "best_results = []\n",
    "files = []\n",
    "\n",
    "# get all the files\n",
    "for folder in filteredDirPaths:\n",
    "    with working_directory(folder):\n",
    "        filePaths = [folder +\"/\"+ i for i in os.listdir(\".\")]\n",
    "        files.extend(filePaths)\n",
    "        \n",
    "# Define error filter\n",
    "errorFilter = re.compile(r'Error.+')\n",
    "# Make it error free\n",
    "errorFilteredFiles = [i for i in files if not errorFilter.search(i)]\n",
    "bestModelFilter = re.compile(r'best_model$')\n",
    "modelFiles = [i for i in files if bestModelFilter.search(i)]\n",
    "parameterFilter = re.compile(r'best_parameters$')\n",
    "parameterFiles = [i for i in files if parameterFilter.search(i)]\n",
    "resultFilter = re.compile(r'best_result_test$')\n",
    "resultFiles = [i for i in files if resultFilter.search(i)]\n",
    "modelFiles_t = packageWithModel(modelFiles)\n",
    "parameterFiles_t = packageWithModel(parameterFiles)\n",
    "resultFiles_t = packageWithModel(resultFiles)\n"
   ]
  },
  {
   "cell_type": "code",
   "execution_count": 246,
   "metadata": {},
   "outputs": [],
   "source": [
    "modelsSoFar = getUniqueModelList(modelFiles)"
   ]
  },
  {
   "cell_type": "markdown",
   "metadata": {},
   "source": [
    "## Get the saved Parameters"
   ]
  },
  {
   "cell_type": "code",
   "execution_count": 247,
   "metadata": {},
   "outputs": [],
   "source": [
    "resultFiles_saved = packageWithModel(filteredSavedParameters,saved=True)"
   ]
  },
  {
   "cell_type": "code",
   "execution_count": 248,
   "metadata": {},
   "outputs": [
    {
     "data": {
      "text/plain": [
       "[('SLIM_BPR_Recommender_mark1_best_parameters',\n",
       "  'saved_parameters/SLIM_BPR_Recommender_mark1_best_parameters',\n",
       "  'default'),\n",
       " ('RP3_Beta_Recommender_best_parameters',\n",
       "  'saved_parameters/RP3_Beta_Recommender_best_parameters',\n",
       "  'default'),\n",
       " ('P3_Alpha_Recommender_best_parameters',\n",
       "  'saved_parameters/P3_Alpha_Recommender_best_parameters',\n",
       "  'default'),\n",
       " ('ItemKNNCBFRecommender_cosine_best_parameters',\n",
       "  'saved_parameters/ItemKNNCBFRecommender_cosine_best_parameters',\n",
       "  'cosine'),\n",
       " ('ItemTreeRecommender_offline_best_parameters',\n",
       "  'saved_parameters/ItemTreeRecommender_offline_best_parameters',\n",
       "  'default'),\n",
       " ('UserKNNCFRecommender_tversky_best_parameters',\n",
       "  'saved_parameters/UserKNNCFRecommender_tversky_best_parameters',\n",
       "  'tversky'),\n",
       " ('ItemKNNCFRecommender_cosine_best_parameters',\n",
       "  'saved_parameters/ItemKNNCFRecommender_cosine_best_parameters',\n",
       "  'cosine')]"
      ]
     },
     "execution_count": 248,
     "metadata": {},
     "output_type": "execute_result"
    }
   ],
   "source": [
    "resultFiles_saved"
   ]
  },
  {
   "cell_type": "markdown",
   "metadata": {},
   "source": [
    "## Find all the map values of the Best Models"
   ]
  },
  {
   "cell_type": "code",
   "execution_count": 249,
   "metadata": {},
   "outputs": [],
   "source": [
    "from utils.OfflineDataLoader import OfflineDataLoader\n",
    "from models.KNN.User_KNN_CFRecommender import UserKNNCFRecommender\n",
    "from models.KNN.Item_KNN_CFRecommender import ItemKNNCFRecommender\n",
    "from models.KNN.Item_KNN_CBFRecommender import ItemKNNCBFRecommender\n",
    "from models.graph.P3AlphaRecommender import P3alphaRecommender\n",
    "from models.graph.RP3BetaRecommender import RP3betaRecommender\n",
    "from models.Slim_mark1.Cython.Slim_BPR_Cython import Slim_BPR_Recommender_Cython\n",
    "\n",
    "def printOutMapValues(modelList,URM,UCM,modelsSoFar):\n",
    "    map_dict = {i:dict() for i in modelsSoFar}\n",
    "    m = OfflineDataLoader()\n",
    "    for model in modelList:\n",
    "        folder = str(\"/\".join(model[1].split(\"/\")[:-1])+\"/\")\n",
    "        file = model[1].split(\"/\")[-1]\n",
    "        if model[0] == \"UserKNNCFRecommender\":\n",
    "            mod = UserKNNCFRecommender(URM)\n",
    "            mod.loadModel(folder_path=folder,file_name=file,verbose=False)\n",
    "            map_dict[model[0]][model[2]] = mod.MAP\n",
    "            print(model[0], model[2],mod.MAP)\n",
    "        elif model[0] == \"ItemKNNCFRecommender\":\n",
    "            mod = ItemKNNCFRecommender(URM)\n",
    "            mod.loadModel(folder_path=folder,file_name=file,verbose=False)\n",
    "            map_dict[model[0]][model[2]] = mod.MAP\n",
    "            print(model[0], model[2],mod.MAP)\n",
    "        elif model[0] == \"ItemKNNCBFRecommender\":\n",
    "            mod = ItemKNNCBFRecommender(URM,UCM)\n",
    "            mod.loadModel(folder_path=folder,file_name=file,verbose=False)\n",
    "            map_dict[model[0]][model[2]] = mod.MAP\n",
    "            print(model[0], model[2],mod.MAP)\n",
    "        elif model[0] == \"SLIM_BPR_Recommender_mark1\":\n",
    "            mod = Slim_BPR_Recommender_Cython(URM)\n",
    "            mod.loadModel(folder_path=folder,file_name=file,verbose=False)\n",
    "            map_dict[model[0]][model[2]] = mod.MAP\n",
    "            print(model[0], model[2],mod.MAP)\n",
    "        elif model[0] == \"RP3_Beta_Recommender\":\n",
    "            mod = RP3betaRecommender(URM)\n",
    "            mod.loadModel(folder_path=folder,file_name=file,verbose=False)\n",
    "            map_dict[model[0]][model[2]] = mod.MAP\n",
    "            print(model[0], model[2],mod.MAP)\n",
    "        elif model[0] == \"P3_Alpha_Recommender\":\n",
    "            mod = P3alphaRecommender(URM)\n",
    "            mod.loadModel(folder_path=folder,file_name=file,verbose=False)\n",
    "            map_dict[model[0]][model[2]] = mod.MAP\n",
    "            print(model[0], model[2],mod.MAP)\n",
    "        elif model[0] == \"PureSVD\":\n",
    "            mod = P3alphaRecommender(URM)\n",
    "            mod.loadModel(folder_path=folder,file_name=file,verbose=False)\n",
    "            map_dict[model[0]][model[2]] = mod.MAP\n",
    "            print(model[0], model[2],mod.MAP)\n",
    "        elif model[0] == \"Slim_Elastic_Net_Recommender\":\n",
    "            mod = P3alphaRecommender(URM)\n",
    "            mod.loadModel(folder_path=folder,file_name=file,verbose=False)\n",
    "            map_dict[model[0]][model[2]] = mod.MAP\n",
    "            print(model[0], model[2],mod.MAP)\n",
    "        elif model[0] == \"SLIM_BPR_Recommender_mark2\":\n",
    "            mod = P3alphaRecommender(URM)\n",
    "            mod.loadModel(folder_path=folder,file_name=file,verbose=False)\n",
    "            map_dict[model[0]][model[2]] = mod.MAP\n",
    "            print(model[0], model[2],mod.MAP)\n",
    "        \n",
    "    return map_dict"
   ]
  },
  {
   "cell_type": "code",
   "execution_count": 250,
   "metadata": {},
   "outputs": [
    {
     "name": "stdout",
     "output_type": "stream",
     "text": [
      "Slim_Elastic_Net_Recommender default 8.99074074074074e-05\n",
      "UserKNNCFRecommender asymmetric 0.0945501676902241\n",
      "UserKNNCFRecommender tversky 0.09916801141660332\n",
      "UserKNNCFRecommender cosine 0.09308573721340364\n",
      "UserKNNCFRecommender jaccard 0.09870710122197038\n",
      "UserKNNCFRecommender dice 0.09811223900856646\n",
      "SLIM_BPR_Recommender_mark1 default 0.09533706067334359\n",
      "ItemKNNCBFRecommender jaccard 0.045217410068657087\n",
      "ItemKNNCBFRecommender asymmetric 0.04724069075963713\n",
      "ItemKNNCBFRecommender cosine 0.047233551996724604\n",
      "ItemKNNCBFRecommender dice 0.04515282665658843\n",
      "P3_Alpha_Recommender default 0.103057790721844\n",
      "PureSVD default 0.03208743994079095\n",
      "SLIM_BPR_Recommender_mark2 default 0.07908572412761378\n",
      "RP3_Beta_Recommender default 0.10393123242630366\n",
      "ItemKNNCFRecommender dice 0.09613278963529867\n",
      "ItemKNNCFRecommender jaccard 0.09579004448538653\n",
      "ItemKNNCFRecommender asymmetric 0.10151167776832949\n",
      "ItemKNNCFRecommender cosine 0.09949610989858927\n",
      "ItemKNNCFRecommender tversky 0.0916798676146386\n"
     ]
    }
   ],
   "source": [
    "a = printOutMapValues(resultFiles_t,data_reader.URM_train,data_reader.ICM,modelsSoFar)"
   ]
  },
  {
   "cell_type": "code",
   "execution_count": 251,
   "metadata": {},
   "outputs": [],
   "source": [
    "saved = printOutMapValues(resultFiles_saved,data_reader.URM_train,data_reader.ICM,modelsSoFar)"
   ]
  },
  {
   "cell_type": "code",
   "execution_count": 252,
   "metadata": {},
   "outputs": [
    {
     "name": "stdout",
     "output_type": "stream",
     "text": [
      "{\n",
      "    \"ItemKNNCBFRecommender\": {\n",
      "        \"asymmetric\": 0.04724069075963713,\n",
      "        \"cosine\": 0.047233551996724604,\n",
      "        \"dice\": 0.04515282665658843,\n",
      "        \"jaccard\": 0.045217410068657087\n",
      "    },\n",
      "    \"ItemKNNCFRecommender\": {\n",
      "        \"asymmetric\": 0.10151167776832949,\n",
      "        \"cosine\": 0.09949610989858927,\n",
      "        \"dice\": 0.09613278963529867,\n",
      "        \"jaccard\": 0.09579004448538653,\n",
      "        \"tversky\": 0.0916798676146386\n",
      "    },\n",
      "    \"ItemTreeRecommender_offline\": {},\n",
      "    \"P3_Alpha_Recommender\": {\n",
      "        \"default\": 0.103057790721844\n",
      "    },\n",
      "    \"PureSVD\": {\n",
      "        \"default\": 0.03208743994079095\n",
      "    },\n",
      "    \"RP3_Beta_Recommender\": {\n",
      "        \"default\": 0.10393123242630366\n",
      "    },\n",
      "    \"SLIM_BPR_Recommender_mark1\": {\n",
      "        \"default\": 0.09533706067334359\n",
      "    },\n",
      "    \"SLIM_BPR_Recommender_mark2\": {\n",
      "        \"default\": 0.07908572412761378\n",
      "    },\n",
      "    \"Slim_Elastic_Net_Recommender\": {\n",
      "        \"default\": 8.99074074074074e-05\n",
      "    },\n",
      "    \"UserKNNCFRecommender\": {\n",
      "        \"asymmetric\": 0.0945501676902241,\n",
      "        \"cosine\": 0.09308573721340364,\n",
      "        \"dice\": 0.09811223900856646,\n",
      "        \"jaccard\": 0.09870710122197038,\n",
      "        \"tversky\": 0.09916801141660332\n",
      "    }\n",
      "}\n"
     ]
    }
   ],
   "source": [
    "import json\n",
    "print(json.dumps(a,sort_keys=True, indent=4))"
   ]
  },
  {
   "cell_type": "markdown",
   "metadata": {},
   "source": [
    "# Find all the max MAPS"
   ]
  },
  {
   "cell_type": "code",
   "execution_count": 253,
   "metadata": {},
   "outputs": [],
   "source": [
    "\n",
    "def create_mapMax(model_dict):\n",
    "    model_map_list = []\n",
    "    import operator\n",
    "    for model in sorted(list(model_dict.keys())):\n",
    "        sorted_by_value = sorted(model_dict[model].items(), key=lambda kv: kv[1],reverse=True)\n",
    "        if len(sorted_by_value) != 0:\n",
    "            model_map_list.append((model,(sorted_by_value[0])))\n",
    "    return model_map_list\n"
   ]
  },
  {
   "cell_type": "code",
   "execution_count": 254,
   "metadata": {},
   "outputs": [
    {
     "data": {
      "text/plain": [
       "[('ItemKNNCBFRecommender', ('asymmetric', 0.04724069075963713)),\n",
       " ('ItemKNNCFRecommender', ('asymmetric', 0.10151167776832949)),\n",
       " ('P3_Alpha_Recommender', ('default', 0.103057790721844)),\n",
       " ('PureSVD', ('default', 0.03208743994079095)),\n",
       " ('RP3_Beta_Recommender', ('default', 0.10393123242630366)),\n",
       " ('SLIM_BPR_Recommender_mark1', ('default', 0.09533706067334359)),\n",
       " ('SLIM_BPR_Recommender_mark2', ('default', 0.07908572412761378)),\n",
       " ('Slim_Elastic_Net_Recommender', ('default', 8.99074074074074e-05)),\n",
       " ('UserKNNCFRecommender', ('tversky', 0.09916801141660332))]"
      ]
     },
     "execution_count": 254,
     "metadata": {},
     "output_type": "execute_result"
    }
   ],
   "source": [
    "b = create_mapMax(a)\n",
    "b"
   ]
  },
  {
   "cell_type": "markdown",
   "metadata": {},
   "source": [
    "## Profile Grouping"
   ]
  },
  {
   "cell_type": "code",
   "execution_count": 4,
   "metadata": {},
   "outputs": [
    {
     "data": {
      "text/plain": [
       "2293"
      ]
     },
     "execution_count": 4,
     "metadata": {},
     "output_type": "execute_result"
    }
   ],
   "source": [
    "import numpy as np\n",
    "import scipy.sparse as sps\n",
    "URM_train = sps.csr_matrix(data_reader.URM_train)\n",
    "\n",
    "profile_length = np.ediff1d(URM_train.indptr)\n",
    "\n",
    "block_size = int(len(profile_length)* (1/22))\n",
    "block_size"
   ]
  },
  {
   "cell_type": "code",
   "execution_count": 5,
   "metadata": {},
   "outputs": [],
   "source": [
    "sorted_users = np.argsort(profile_length )"
   ]
  },
  {
   "cell_type": "code",
   "execution_count": 6,
   "metadata": {},
   "outputs": [
    {
     "name": "stdout",
     "output_type": "stream",
     "text": [
      "Group 0, group size: 2293 average p.len 5.06, min 2, max 6\n",
      "Group 1, group size: 2293 average p.len 6.11, min 6, max 7\n",
      "Group 2, group size: 2293 average p.len 7.11, min 7, max 8\n",
      "Group 3, group size: 2293 average p.len 8.12, min 8, max 9\n",
      "Group 4, group size: 2293 average p.len 9.18, min 9, max 10\n",
      "Group 5, group size: 2293 average p.len 10.41, min 10, max 11\n",
      "Group 6, group size: 2293 average p.len 11.64, min 11, max 12\n",
      "Group 7, group size: 2293 average p.len 13.15, min 12, max 14\n",
      "Group 8, group size: 2293 average p.len 14.54, min 14, max 15\n",
      "Group 9, group size: 2293 average p.len 16.19, min 15, max 17\n",
      "Group 10, group size: 2293 average p.len 17.82, min 17, max 19\n",
      "Group 11, group size: 2293 average p.len 19.61, min 19, max 21\n",
      "Group 12, group size: 2293 average p.len 21.61, min 21, max 23\n",
      "Group 13, group size: 2293 average p.len 23.68, min 23, max 25\n",
      "Group 14, group size: 2293 average p.len 25.98, min 25, max 27\n",
      "Group 15, group size: 2293 average p.len 28.66, min 27, max 30\n",
      "Group 16, group size: 2293 average p.len 31.62, min 30, max 33\n",
      "Group 17, group size: 2293 average p.len 35.19, min 33, max 37\n",
      "Group 18, group size: 2293 average p.len 39.32, min 37, max 42\n",
      "Group 19, group size: 2293 average p.len 44.74, min 42, max 48\n",
      "Group 20, group size: 2293 average p.len 52.06, min 48, max 57\n",
      "Group 21, group size: 2293 average p.len 66.21, min 57, max 100\n"
     ]
    }
   ],
   "source": [
    "for group_id in range(0, 22):\n",
    "    \n",
    "    start_pos = group_id*block_size\n",
    "    end_pos = min((group_id+1)*block_size, len(profile_length))\n",
    "    \n",
    "    users_in_group = sorted_users[start_pos:end_pos]\n",
    "    \n",
    "    users_in_group_p_len = profile_length[users_in_group]\n",
    "    \n",
    "    print(\"Group {}, group size: {} average p.len {:.2f}, min {}, max {}\".format(group_id,len(users_in_group),\n",
    "        users_in_group_p_len.mean(), users_in_group_p_len.min(), users_in_group_p_len.max()))"
   ]
  },
  {
   "cell_type": "code",
   "execution_count": 56,
   "metadata": {},
   "outputs": [
    {
     "name": "stdout",
     "output_type": "stream",
     "text": [
      "SLIM_BPR_Cython: Estimated memory required for similarity matrix of 20635 items is 1703.21 MB\n",
      "SLIM_BPR_Recommender_mark2: Loading model from file 'saved_models/training/SLIM_BPR_Recommender_mark2'\n",
      "SLIM_BPR_Recommender_mark2: Loading complete\n",
      "ItemKNNCBFRecommender: Loading model from file 'saved_models/training/ItemKNNCBFRecommender_asymmetric_best_model'\n",
      "ItemKNNCBFRecommender: Loading complete\n"
     ]
    }
   ],
   "source": [
    "import numpy as np\n",
    "from utils.OfflineDataLoader import OfflineDataLoader\n",
    "m = OfflineDataLoader()\n",
    "\n",
    "from models.Slim_mark2.Cython.Slim_BPR_Cython import Slim_BPR_Recommender_Cython as slim_mark2\n",
    "from models.KNN.Item_KNN_CBFRecommender import ItemKNNCBFRecommender\n",
    "m1 = slim_mark2(data_reader.URM_train)\n",
    "m2 = ItemKNNCBFRecommender(data_reader.URM_train,data_reader.ICM)\n",
    "fold ,file = m.get_model(slim_mark2.RECOMMENDER_NAME)\n",
    "m1.loadModel(folder_path = fold, file_name=file)\n",
    "fold ,file = m.get_model(ItemKNNCBFRecommender.RECOMMENDER_NAME)\n",
    "m2.loadModel(folder_path = fold, file_name=file)"
   ]
  },
  {
   "cell_type": "code",
   "execution_count": 32,
   "metadata": {},
   "outputs": [
    {
     "data": {
      "text/plain": [
       "'SLIM_BPR_Recommender_mark2'"
      ]
     },
     "execution_count": 32,
     "metadata": {},
     "output_type": "execute_result"
    }
   ],
   "source": []
  },
  {
   "cell_type": "code",
   "execution_count": 34,
   "metadata": {},
   "outputs": [],
   "source": [
    "W_sparse_CF = m1.W_sparse\n",
    "W_sparse_CBF = m2.W_sparse\n",
    "W_sparse_CF_sorted = np.sort(W_sparse_CF.data.copy())\n",
    "W_sparse_CBF_sorted = np.sort(W_sparse_CBF.data.copy())"
   ]
  },
  {
   "cell_type": "code",
   "execution_count": 10,
   "metadata": {},
   "outputs": [
    {
     "data": {
      "text/plain": [
       "[<matplotlib.lines.Line2D at 0x11187ff98>]"
      ]
     },
     "execution_count": 10,
     "metadata": {},
     "output_type": "execute_result"
    },
    {
     "data": {
      "text/plain": [
       "[<matplotlib.lines.Line2D at 0x1108a6c18>]"
      ]
     },
     "execution_count": 10,
     "metadata": {},
     "output_type": "execute_result"
    },
    {
     "data": {
      "text/plain": [
       "Text(0, 0.5, 'Similarity cell ')"
      ]
     },
     "execution_count": 10,
     "metadata": {},
     "output_type": "execute_result"
    },
    {
     "data": {
      "text/plain": [
       "Text(0.5, 0, 'Similarity value')"
      ]
     },
     "execution_count": 10,
     "metadata": {},
     "output_type": "execute_result"
    },
    {
     "data": {
      "text/plain": [
       "<matplotlib.legend.Legend at 0x11188a4a8>"
      ]
     },
     "execution_count": 10,
     "metadata": {},
     "output_type": "execute_result"
    },
    {
     "data": {
      "image/png": "[encoded data removed]",
      "text/plain": [
       "<Figure size 432x288 with 1 Axes>"
      ]
     },
     "metadata": {
      "needs_background": "light"
     },
     "output_type": "display_data"
    }
   ],
   "source": [
    "import numpy as np\n",
    "import matplotlib.pyplot as pyplot\n",
    "\n",
    "\n",
    "pyplot.plot(W_sparse_CF_sorted, label = 'CF')\n",
    "pyplot.plot(W_sparse_CBF_sorted, label = 'CBF')\n",
    "pyplot.ylabel('Similarity cell ')\n",
    "pyplot.xlabel('Similarity value')\n",
    "pyplot.legend()\n",
    "pyplot.show()"
   ]
  },
  {
   "cell_type": "code",
   "execution_count": 11,
   "metadata": {},
   "outputs": [],
   "source": [
    "# Get common structure\n",
    "W_sparse_CF_structure = W_sparse_CF.copy()\n",
    "W_sparse_CF_structure.data = np.ones_like(W_sparse_CF_structure.data)\n",
    "\n",
    "W_sparse_CBF_structure = W_sparse_CBF.copy()\n",
    "W_sparse_CBF_structure.data = np.ones_like(W_sparse_CBF_structure.data)\n",
    "\n",
    "W_sparse_common = W_sparse_CF_structure.multiply(W_sparse_CBF_structure)\n",
    "\n",
    "# Get values of both in common structure of CF\n",
    "W_sparse_delta = W_sparse_CBF.copy().multiply(W_sparse_common)\n",
    "W_sparse_delta -= W_sparse_CF.copy().multiply(W_sparse_common)"
   ]
  },
  {
   "cell_type": "code",
   "execution_count": 12,
   "metadata": {},
   "outputs": [
    {
     "data": {
      "text/plain": [
       "[<matplotlib.lines.Line2D at 0x1115e93c8>]"
      ]
     },
     "execution_count": 12,
     "metadata": {},
     "output_type": "execute_result"
    },
    {
     "data": {
      "text/plain": [
       "Text(0, 0.5, 'Similarity cell ')"
      ]
     },
     "execution_count": 12,
     "metadata": {},
     "output_type": "execute_result"
    },
    {
     "data": {
      "text/plain": [
       "Text(0.5, 0, 'Similarity value')"
      ]
     },
     "execution_count": 12,
     "metadata": {},
     "output_type": "execute_result"
    },
    {
     "data": {
      "text/plain": [
       "<matplotlib.legend.Legend at 0x1108a6a20>"
      ]
     },
     "execution_count": 12,
     "metadata": {},
     "output_type": "execute_result"
    },
    {
     "data": {
      "image/png": "[encoded data removed]",
      "text/plain": [
       "<Figure size 432x288 with 1 Axes>"
      ]
     },
     "metadata": {
      "needs_background": "light"
     },
     "output_type": "display_data"
    }
   ],
   "source": [
    "W_sparse_delta_sorted = np.sort(W_sparse_delta.data.copy())\n",
    "pyplot.plot(W_sparse_delta_sorted, label = 'delta')\n",
    "pyplot.ylabel('Similarity cell ')\n",
    "pyplot.xlabel('Similarity value')\n",
    "pyplot.legend()\n",
    "pyplot.show()"
   ]
  },
  {
   "cell_type": "code",
   "execution_count": 13,
   "metadata": {},
   "outputs": [
    {
     "name": "stdout",
     "output_type": "stream",
     "text": [
      "W_sparse_CF has 2.10E+06 values and 6.00 % in common with CBF\n",
      "W_sparse_CBF has 2.31E+05 values and 54.58 % in common with CF\n",
      "W_sparse_delta has 1.26E+05 values\n"
     ]
    }
   ],
   "source": [
    "# How many values we have in common?\n",
    "\n",
    "print(\"W_sparse_CF has {:.2E} values and {:.2f} % in common with CBF\".format(W_sparse_CF.nnz, W_sparse_common.nnz/W_sparse_CF.nnz*100))\n",
    "print(\"W_sparse_CBF has {:.2E} values and {:.2f} % in common with CF\".format(W_sparse_CBF.nnz, W_sparse_common.nnz/W_sparse_CBF.nnz*100))\n",
    "\n",
    "print(\"W_sparse_delta has {:.2E} values\".format(W_sparse_delta.nnz))\n",
    "\n"
   ]
  },
  {
   "cell_type": "code",
   "execution_count": 14,
   "metadata": {},
   "outputs": [],
   "source": [
    "W_sparse_delta = W_sparse_delta.tocoo()\n",
    "\n",
    "\n",
    "item_index_1 = W_sparse_delta.row[666]\n",
    "item_index_2 = W_sparse_delta.col[666]"
   ]
  },
  {
   "cell_type": "code",
   "execution_count": 15,
   "metadata": {},
   "outputs": [
    {
     "name": "stdout",
     "output_type": "stream",
     "text": [
      "Item indices are 110 and 16594\n"
     ]
    }
   ],
   "source": [
    "print(\"Item indices are {} and {}\".format(item_index_1, item_index_2))"
   ]
  },
  {
   "cell_type": "code",
   "execution_count": 16,
   "metadata": {},
   "outputs": [
    {
     "name": "stdout",
     "output_type": "stream",
     "text": [
      "Collaborative similarity value is 0.24627837538719177\n",
      "Content-based similarity value is 0.09742043912410736\n"
     ]
    }
   ],
   "source": [
    "print(\"Collaborative similarity value is {}\".format(W_sparse_CF[item_index_1, item_index_2]))\n",
    "print(\"Content-based similarity value is {}\".format(W_sparse_CBF[item_index_1, item_index_2]))"
   ]
  },
  {
   "cell_type": "code",
   "execution_count": 17,
   "metadata": {},
   "outputs": [
    {
     "data": {
      "text/plain": [
       "<1x19412 sparse matrix of type '<class 'numpy.float32'>'\n",
       "\twith 2 stored elements in Compressed Sparse Row format>"
      ]
     },
     "execution_count": 17,
     "metadata": {},
     "output_type": "execute_result"
    }
   ],
   "source": [
    "from base.RecommenderUtils import check_matrix\n",
    "ICM = check_matrix(data_reader.ICM,\"csr\")\n",
    "common_features = ICM[item_index_1,:].multiply(ICM[item_index_2,:])\n",
    "common_features"
   ]
  },
  {
   "cell_type": "code",
   "execution_count": 18,
   "metadata": {},
   "outputs": [
    {
     "data": {
      "text/plain": [
       "array([1092, 8876], dtype=int32)"
      ]
     },
     "execution_count": 18,
     "metadata": {},
     "output_type": "execute_result"
    }
   ],
   "source": [
    "common_features.indices"
   ]
  },
  {
   "cell_type": "code",
   "execution_count": 19,
   "metadata": {},
   "outputs": [
    {
     "name": "stdout",
     "output_type": "stream",
     "text": [
      "Item indices are 20634 and 20038\n",
      "Collaborative similarity value is 0.3328789472579956\n",
      "Content-based similarity value is 0.04442018270492554\n"
     ]
    },
    {
     "data": {
      "text/plain": [
       "array([56], dtype=int32)"
      ]
     },
     "execution_count": 19,
     "metadata": {},
     "output_type": "execute_result"
    }
   ],
   "source": [
    "min_common_features = 5\n",
    "\n",
    "for inner_index in range(len(W_sparse_delta.row)):\n",
    "\n",
    "    item_index_1 = W_sparse_delta.row[inner_index]\n",
    "    item_index_2 = W_sparse_delta.col[inner_index]\n",
    "\n",
    "    common_features = ICM[item_index_1,:].multiply(ICM[item_index_2,:])\n",
    "    \n",
    "    if common_features.nnz >= min_common_features:\n",
    "        \n",
    "        # Bad programming, don't do this at home\n",
    "        break\n",
    "        \n",
    "        \n",
    "\n",
    "print(\"Item indices are {} and {}\".format(item_index_1, item_index_2))\n",
    "\n",
    "print(\"Collaborative similarity value is {}\".format(W_sparse_CF[item_index_1, item_index_2]))\n",
    "print(\"Content-based similarity value is {}\".format(W_sparse_CBF[item_index_1, item_index_2]))\n",
    "    \n",
    "common_features.indices"
   ]
  },
  {
   "cell_type": "code",
   "execution_count": 22,
   "metadata": {},
   "outputs": [],
   "source": [
    "from scipy.sparse import linalg\n",
    "\n",
    "loss_tolerance = 1e-6\n",
    "iteration_limit = 50000\n",
    "damp_coeff=0.0\n",
    "\n",
    "W_sparse_CF_value = W_sparse_CF[item_index_1, item_index_2]"
   ]
  },
  {
   "cell_type": "code",
   "execution_count": 23,
   "metadata": {},
   "outputs": [],
   "source": [
    "linalg_result = linalg.lsqr(common_features, W_sparse_CF_value, show = False, atol=loss_tolerance, btol=loss_tolerance,\n",
    "                  iter_lim = iteration_limit, damp=damp_coeff)"
   ]
  },
  {
   "cell_type": "code",
   "execution_count": 24,
   "metadata": {},
   "outputs": [
    {
     "data": {
      "text/plain": [
       "array([0., 0., 0., ..., 0., 0., 0.])"
      ]
     },
     "execution_count": 24,
     "metadata": {},
     "output_type": "execute_result"
    }
   ],
   "source": [
    "feature_weights = linalg_result[0].copy()\n",
    "feature_weights"
   ]
  },
  {
   "cell_type": "code",
   "execution_count": 25,
   "metadata": {},
   "outputs": [
    {
     "data": {
      "text/plain": [
       "array([0.33287895])"
      ]
     },
     "execution_count": 25,
     "metadata": {},
     "output_type": "execute_result"
    }
   ],
   "source": [
    "feature_weights[common_features.indices]"
   ]
  },
  {
   "cell_type": "code",
   "execution_count": 26,
   "metadata": {},
   "outputs": [
    {
     "data": {
      "text/plain": [
       "array([0.33287895])"
      ]
     },
     "execution_count": 26,
     "metadata": {},
     "output_type": "execute_result"
    }
   ],
   "source": [
    "new_CBF_value = common_features.dot(feature_weights)\n",
    "new_CBF_value"
   ]
  },
  {
   "cell_type": "code",
   "execution_count": 27,
   "metadata": {},
   "outputs": [
    {
     "name": "stdout",
     "output_type": "stream",
     "text": [
      "Collaborative similarity value is 0.3328789472579956\n",
      "Content-based similarity value is 0.04442018270492554\n",
      "Weighted Content-based similarity value is 0.3328789472579956\n"
     ]
    }
   ],
   "source": [
    "print(\"Collaborative similarity value is {}\".format(W_sparse_CF[item_index_1, item_index_2]))\n",
    "print(\"Content-based similarity value is {}\".format(W_sparse_CBF[item_index_1, item_index_2]))\n",
    "\n",
    "print(\"Weighted Content-based similarity value is {}\".format(new_CBF_value[0]))"
   ]
  },
  {
   "cell_type": "code",
   "execution_count": 57,
   "metadata": {},
   "outputs": [],
   "source": [
    "from models.FW_Similarity.CFWBoostingRecommender import CFWBoostingRecommender "
   ]
  },
  {
   "cell_type": "code",
   "execution_count": 60,
   "metadata": {},
   "outputs": [
    {
     "data": {
      "text/plain": [
       "<50446x20635 sparse matrix of type '<class 'numpy.int64'>'\n",
       "\twith 1164922 stored elements in Compressed Sparse Row format>"
      ]
     },
     "execution_count": 60,
     "metadata": {},
     "output_type": "execute_result"
    }
   ],
   "source": [
    "data_reader.get_URM_train().tocsr()"
   ]
  },
  {
   "cell_type": "code",
   "execution_count": 63,
   "metadata": {},
   "outputs": [
    {
     "ename": "AttributeError",
     "evalue": "type object 'type' has no attribute 'RECOMMENDER_NAME'",
     "output_type": "error",
     "traceback": [
      "\u001b[0;31m---------------------------------------------------------------------------\u001b[0m",
      "\u001b[0;31mAttributeError\u001b[0m                            Traceback (most recent call last)",
      "\u001b[0;32m<ipython-input-63-03ca3a8ec7c3>\u001b[0m in \u001b[0;36m<module>\u001b[0;34m\u001b[0m\n\u001b[0;32m----> 1\u001b[0;31m \u001b[0mCFW_weigthing\u001b[0m \u001b[0;34m=\u001b[0m \u001b[0mCFWBoostingRecommender\u001b[0m\u001b[0;34m(\u001b[0m\u001b[0mdata_reader\u001b[0m\u001b[0;34m.\u001b[0m\u001b[0mget_URM_train\u001b[0m\u001b[0;34m(\u001b[0m\u001b[0;34m)\u001b[0m\u001b[0;34m,\u001b[0m \u001b[0mdata_reader\u001b[0m\u001b[0;34m.\u001b[0m\u001b[0mICM\u001b[0m\u001b[0;34m,\u001b[0m \u001b[0mslim_mark2\u001b[0m\u001b[0;34m.\u001b[0m\u001b[0m__class__\u001b[0m \u001b[0;34m,\u001b[0m\u001b[0mtraining\u001b[0m\u001b[0;34m=\u001b[0m\u001b[0;32mTrue\u001b[0m\u001b[0;34m)\u001b[0m\u001b[0;34m\u001b[0m\u001b[0m\n\u001b[0m\u001b[1;32m      2\u001b[0m \u001b[0;31m#CFW_weigthing.fit()\u001b[0m\u001b[0;34m\u001b[0m\u001b[0;34m\u001b[0m\u001b[0m\n",
      "\u001b[0;32m~/dev/PolimiRecSys2018/models/FW_Similarity/CFWBoostingRecommender.py\u001b[0m in \u001b[0;36m__init__\u001b[0;34m(self, URM_train, ICM, S_matrix_target, training)\u001b[0m\n\u001b[1;32m     38\u001b[0m         \u001b[0mself\u001b[0m\u001b[0;34m.\u001b[0m\u001b[0mICM\u001b[0m \u001b[0;34m=\u001b[0m \u001b[0mcheck_matrix\u001b[0m\u001b[0;34m(\u001b[0m\u001b[0mICM\u001b[0m\u001b[0;34m,\u001b[0m \u001b[0;34m'csr'\u001b[0m\u001b[0;34m)\u001b[0m\u001b[0;34m\u001b[0m\u001b[0m\n\u001b[1;32m     39\u001b[0m         \u001b[0mm\u001b[0m \u001b[0;34m=\u001b[0m \u001b[0mOfflineDataLoader\u001b[0m\u001b[0;34m(\u001b[0m\u001b[0;34m)\u001b[0m\u001b[0;34m\u001b[0m\u001b[0m\n\u001b[0;32m---> 40\u001b[0;31m         \u001b[0mfold\u001b[0m\u001b[0;34m,\u001b[0m\u001b[0mfile\u001b[0m \u001b[0;34m=\u001b[0m \u001b[0mm\u001b[0m\u001b[0;34m.\u001b[0m\u001b[0mget_model\u001b[0m\u001b[0;34m(\u001b[0m\u001b[0mtarget_model\u001b[0m\u001b[0;34m.\u001b[0m\u001b[0mRECOMMENDER_NAME\u001b[0m\u001b[0;34m,\u001b[0m\u001b[0mtraining\u001b[0m\u001b[0;34m=\u001b[0m\u001b[0;32mTrue\u001b[0m\u001b[0;34m)\u001b[0m\u001b[0;34m\u001b[0m\u001b[0m\n\u001b[0m\u001b[1;32m     41\u001b[0m         \u001b[0mm1\u001b[0m \u001b[0;34m=\u001b[0m \u001b[0mtarget_model\u001b[0m\u001b[0;34m(\u001b[0m\u001b[0mself\u001b[0m\u001b[0;34m.\u001b[0m\u001b[0mURM_train\u001b[0m\u001b[0;34m)\u001b[0m\u001b[0;34m\u001b[0m\u001b[0m\n\u001b[1;32m     42\u001b[0m         \u001b[0mprint\u001b[0m\u001b[0;34m(\u001b[0m\u001b[0mm1\u001b[0m\u001b[0;34m.\u001b[0m\u001b[0mRECOMMENDER_NAME\u001b[0m\u001b[0;34m)\u001b[0m\u001b[0;34m\u001b[0m\u001b[0m\n",
      "\u001b[0;31mAttributeError\u001b[0m: type object 'type' has no attribute 'RECOMMENDER_NAME'"
     ]
    }
   ],
   "source": [
    "CFW_weigthing = CFWBoostingRecommender(data_reader.get_URM_train(), data_reader.ICM, slim_mark2.__class__ ,training=True)\n",
    "CFW_weigthing.fit()"
   ]
  },
  {
   "cell_type": "code",
   "execution_count": 27,
   "metadata": {},
   "outputs": [],
   "source": [
    "from base.evaluation.Evaluator import SequentialEvaluator\n",
    "\n",
    "evaluator_validation = SequentialEvaluator(data_reader.URM_test, cutoff_list=[10])\n",
    "evaluator_test = SequentialEvaluator(data_reader.URM_test, cutoff_list=[10])\n",
    "\n"
   ]
  },
  {
   "cell_type": "code",
   "execution_count": 30,
   "metadata": {},
   "outputs": [
    {
     "name": "stdout",
     "output_type": "stream",
     "text": [
      "SequentialEvaluator: Processed 7001 ( 70.01% ) in 32.60 seconds. Users per second: 215\n",
      "SequentialEvaluator: Processed 10000 ( 100.00% ) in 39.37 seconds. Users per second: 254\n"
     ]
    },
    {
     "data": {
      "text/plain": [
       "{10: {'MAP': 0.09805901510141089,\n",
       "  'PRECISION': 0.19725876984126867,\n",
       "  'RECALL': 0.19516547211689153}}"
      ]
     },
     "execution_count": 30,
     "metadata": {},
     "output_type": "execute_result"
    }
   ],
   "source": [
    "results_dict, _ = evaluator_test.evaluateRecommender(m1)\n",
    "results_dict"
   ]
  },
  {
   "cell_type": "code",
   "execution_count": 31,
   "metadata": {},
   "outputs": [
    {
     "name": "stdout",
     "output_type": "stream",
     "text": [
      "SequentialEvaluator: Processed 9001 ( 90.01% ) in 31.54 seconds. Users per second: 285\n",
      "SequentialEvaluator: Processed 10000 ( 100.00% ) in 31.79 seconds. Users per second: 315\n"
     ]
    },
    {
     "data": {
      "text/plain": [
       "{10: {'MAP': 0.048737593616150016,\n",
       "  'PRECISION': 0.10162825396825478,\n",
       "  'RECALL': 0.1009123736639185}}"
      ]
     },
     "execution_count": 31,
     "metadata": {},
     "output_type": "execute_result"
    }
   ],
   "source": [
    "results_dict, _ = evaluator_test.evaluateRecommender(m2)\n",
    "results_dict"
   ]
  },
  {
   "cell_type": "code",
   "execution_count": 33,
   "metadata": {},
   "outputs": [
    {
     "name": "stdout",
     "output_type": "stream",
     "text": [
      "SequentialEvaluator: Processed 8001 ( 80.01% ) in 30.76 seconds. Users per second: 260\n",
      "SequentialEvaluator: Processed 10000 ( 100.00% ) in 34.19 seconds. Users per second: 293\n"
     ]
    },
    {
     "data": {
      "text/plain": [
       "{10: {'MAP': 0.0420240052437641,\n",
       "  'PRECISION': 0.0912482936507941,\n",
       "  'RECALL': 0.09064340574458254}}"
      ]
     },
     "execution_count": 33,
     "metadata": {},
     "output_type": "execute_result"
    }
   ],
   "source": [
    "results_dict, _ = evaluator_test.evaluateRecommender(CFW_weigthing)\n",
    "results_dict"
   ]
  },
  {
   "cell_type": "code",
   "execution_count": 34,
   "metadata": {},
   "outputs": [
    {
     "name": "stdout",
     "output_type": "stream",
     "text": [
      "|   iter    |  target   | add_ze... | normal... |   topK    |\n",
      "-------------------------------------------------------------\n",
      "BayesianSearch: Testing config: {'add_zeros_quota': 0.10001026716733641, 'normalize_similarity': False, 'topK': 400}\n",
      "CFW_D_Similarity_Linalg: Generating train data\n",
      "Similarity column 20635 ( 100 % ), 9314.11 column/sec, elapsed time 0.04 min\n",
      "CFW_D_Similarity_Linalg: Collaborative S density: 9.46E-04, nonzero cells 402784\n",
      "CFW_D_Similarity_Linalg: Content S density: 5.43E-04, nonzero cells 231010\n",
      "CFW_D_Similarity_Linalg: Content S structure has 69352 out of 231010 ( 30.02%) nonzero collaborative cells\n",
      "CFW_D_Similarity_Linalg: Nonzero collaborative cell sum is: 1.57E+04, average is: 2.26E-01, average over all collaborative data is 1.72E-01\n",
      "Similarity column 20635 ( 100 % ), 9758.82 column/sec, elapsed time 0.04 min\n",
      "SequentialEvaluator: Processed 8811 ( 88.11% ) in 30.00 seconds. Users per second: 294\n",
      "SequentialEvaluator: Processed 10000 ( 100.00% ) in 33.22 seconds. Users per second: 301\n",
      "BayesianSearch: New best config found. Config: {'add_zeros_quota': 0.10001026716733641, 'normalize_similarity': False, 'topK': 400, 'epochs': 0, 'max_epochs': 0} - results: {'MAP': 0.0442119587112622, 'PRECISION': 0.09559023809523852, 'RECALL': 0.09497080232461068}\n",
      "\n",
      "BayesianSearch: Saving model in result_experiments/ICM_genres/CFW_D_Similarity_Linalg\n",
      "\n",
      "CFW_D_Similarity_Linalg: Saving model in file 'result_experiments/ICM_genres/CFW_D_Similarity_Linalg_best_model'\n",
      "CFW_D_Similarity_Linalg: Saving complete\n",
      "CFW_D_Similarity_Linalg: Loading model from file 'result_experiments/ICM_genres/CFW_D_Similarity_Linalg_best_model'\n",
      "CFW_D_Similarity_Linalg: Loading complete\n",
      "SequentialEvaluator: Processed 10000 ( 100.00% ) in 26.24 seconds. Users per second: 381\n",
      "BayesianSearch: Best result evaluated on URM_test. Config: {'add_zeros_quota': 0.10001026716733641, 'normalize_similarity': False, 'topK': 400, 'epochs': 0, 'max_epochs': 0} - results: MAP: 0.0442120, PRECISION: 0.0955902, RECALL: 0.0949708, \n",
      "\n",
      "| \u001b[0m 1       \u001b[0m | \u001b[0m 0.04421 \u001b[0m | \u001b[0m 0.1     \u001b[0m | \u001b[0m 0.7445  \u001b[0m | \u001b[0m 7.562   \u001b[0m |\n",
      "BayesianSearch: Testing config: {'add_zeros_quota': 0.19512427313072855, 'normalize_similarity': True, 'topK': 200}\n",
      "CFW_D_Similarity_Linalg: Generating train data\n",
      "Similarity column 20635 ( 100 % ), 11208.23 column/sec, elapsed time 0.03 min\n",
      "CFW_D_Similarity_Linalg: Collaborative S density: 9.46E-04, nonzero cells 402784\n",
      "CFW_D_Similarity_Linalg: Content S density: 5.43E-04, nonzero cells 231010\n",
      "CFW_D_Similarity_Linalg: Content S structure has 69352 out of 231010 ( 30.02%) nonzero collaborative cells\n",
      "CFW_D_Similarity_Linalg: Nonzero collaborative cell sum is: 3.13E+04, average is: 4.52E-01, average over all collaborative data is 1.72E-01\n",
      "Similarity column 20635 ( 100 % ), 5538.51 column/sec, elapsed time 0.06 min\n",
      "SequentialEvaluator: Processed 9001 ( 90.01% ) in 31.58 seconds. Users per second: 285\n",
      "SequentialEvaluator: Processed 10000 ( 100.00% ) in 31.83 seconds. Users per second: 314\n",
      "BayesianSearch: New best config found. Config: {'add_zeros_quota': 0.19512427313072855, 'normalize_similarity': True, 'topK': 200, 'epochs': 0, 'max_epochs': 0} - results: {'MAP': 0.04573137457482976, 'PRECISION': 0.09732714285714343, 'RECALL': 0.0966612381796055}\n",
      "\n",
      "BayesianSearch: Saving model in result_experiments/ICM_genres/CFW_D_Similarity_Linalg\n",
      "\n",
      "CFW_D_Similarity_Linalg: Saving model in file 'result_experiments/ICM_genres/CFW_D_Similarity_Linalg_best_model'\n",
      "CFW_D_Similarity_Linalg: Saving complete\n",
      "CFW_D_Similarity_Linalg: Loading model from file 'result_experiments/ICM_genres/CFW_D_Similarity_Linalg_best_model'\n",
      "CFW_D_Similarity_Linalg: Loading complete\n",
      "SequentialEvaluator: Processed 10000 ( 100.00% ) in 25.81 seconds. Users per second: 387\n",
      "BayesianSearch: Best result evaluated on URM_test. Config: {'add_zeros_quota': 0.19512427313072855, 'normalize_similarity': True, 'topK': 200, 'epochs': 0, 'max_epochs': 0} - results: MAP: 0.0457314, PRECISION: 0.0973271, RECALL: 0.0966612, \n",
      "\n",
      "| \u001b[95m 2       \u001b[0m | \u001b[95m 0.04573 \u001b[0m | \u001b[95m 0.1951  \u001b[0m | \u001b[95m 0.2147  \u001b[0m | \u001b[95m 5.579   \u001b[0m |\n",
      "BayesianSearch: Testing config: {'add_zeros_quota': 0.8086720331429063, 'normalize_similarity': True, 'topK': 10}\n",
      "CFW_D_Similarity_Linalg: Generating train data\n",
      "Similarity column 20635 ( 100 % ), 8993.57 column/sec, elapsed time 0.04 min\n",
      "CFW_D_Similarity_Linalg: Collaborative S density: 9.46E-04, nonzero cells 402784\n",
      "CFW_D_Similarity_Linalg: Content S density: 2.68E-04, nonzero cells 113990\n",
      "CFW_D_Similarity_Linalg: Content S structure has 46008 out of 113990 ( 40.36%) nonzero collaborative cells\n",
      "CFW_D_Similarity_Linalg: Nonzero collaborative cell sum is: 2.18E+04, average is: 4.73E-01, average over all collaborative data is 1.72E-01\n",
      "Similarity column 20635 ( 100 % ), 5377.57 column/sec, elapsed time 0.06 min\n",
      "SequentialEvaluator: Processed 9001 ( 90.01% ) in 31.42 seconds. Users per second: 286\n",
      "SequentialEvaluator: Processed 10000 ( 100.00% ) in 31.68 seconds. Users per second: 316\n",
      "BayesianSearch: New best config found. Config: {'add_zeros_quota': 0.8086720331429063, 'normalize_similarity': True, 'topK': 10, 'epochs': 0, 'max_epochs': 0} - results: {'MAP': 0.04720050434618273, 'PRECISION': 0.10249531746031809, 'RECALL': 0.1017579154320916}\n",
      "\n",
      "BayesianSearch: Saving model in result_experiments/ICM_genres/CFW_D_Similarity_Linalg\n",
      "\n",
      "CFW_D_Similarity_Linalg: Saving model in file 'result_experiments/ICM_genres/CFW_D_Similarity_Linalg_best_model'\n",
      "CFW_D_Similarity_Linalg: Saving complete\n",
      "CFW_D_Similarity_Linalg: Loading model from file 'result_experiments/ICM_genres/CFW_D_Similarity_Linalg_best_model'\n",
      "CFW_D_Similarity_Linalg: Loading complete\n",
      "SequentialEvaluator: Processed 10000 ( 100.00% ) in 27.68 seconds. Users per second: 361\n",
      "BayesianSearch: Best result evaluated on URM_test. Config: {'add_zeros_quota': 0.8086720331429063, 'normalize_similarity': True, 'topK': 10, 'epochs': 0, 'max_epochs': 0} - results: MAP: 0.0472005, PRECISION: 0.1024953, RECALL: 0.1017579, \n",
      "\n",
      "| \u001b[95m 3       \u001b[0m | \u001b[95m 0.0472  \u001b[0m | \u001b[95m 0.8087  \u001b[0m | \u001b[95m 0.04567 \u001b[0m | \u001b[95m 0.8013  \u001b[0m |\n",
      "BayesianSearch: Testing config: {'add_zeros_quota': 0.3488723770692853, 'normalize_similarity': True, 'topK': 20}\n",
      "CFW_D_Similarity_Linalg: Generating train data\n",
      "Similarity column 20635 ( 100 % ), 10197.11 column/sec, elapsed time 0.03 min\n",
      "CFW_D_Similarity_Linalg: Collaborative S density: 9.46E-04, nonzero cells 402784\n",
      "CFW_D_Similarity_Linalg: Content S density: 3.96E-04, nonzero cells 168445\n",
      "CFW_D_Similarity_Linalg: Content S structure has 58656 out of 168445 ( 34.82%) nonzero collaborative cells\n",
      "CFW_D_Similarity_Linalg: Nonzero collaborative cell sum is: 2.73E+04, average is: 4.66E-01, average over all collaborative data is 1.72E-01\n",
      "Similarity column 20635 ( 100 % ), 4742.99 column/sec, elapsed time 0.07 min\n",
      "SequentialEvaluator: Processed 9001 ( 90.01% ) in 31.47 seconds. Users per second: 286\n",
      "SequentialEvaluator: Processed 10000 ( 100.00% ) in 31.84 seconds. Users per second: 314\n",
      "BayesianSearch: Config is suboptimal. Config: {'add_zeros_quota': 0.3488723770692853, 'normalize_similarity': True, 'topK': 20, 'epochs': 0, 'max_epochs': 0} - results: {'MAP': 0.046865610323758994, 'PRECISION': 0.09973761904761977, 'RECALL': 0.0990258850441789}\n",
      "\n",
      "| \u001b[0m 4       \u001b[0m | \u001b[0m 0.04687 \u001b[0m | \u001b[0m 0.3489  \u001b[0m | \u001b[0m 0.1484  \u001b[0m | \u001b[0m 2.482   \u001b[0m |\n",
      "BayesianSearch: Testing config: {'add_zeros_quota': 0.06796033509844401, 'normalize_similarity': True, 'topK': 200}\n",
      "CFW_D_Similarity_Linalg: Generating train data\n",
      "Similarity column 20635 ( 100 % ), 9270.88 column/sec, elapsed time 0.04 min\n",
      "CFW_D_Similarity_Linalg: Collaborative S density: 9.46E-04, nonzero cells 402784\n",
      "CFW_D_Similarity_Linalg: Content S density: 5.43E-04, nonzero cells 231010\n",
      "CFW_D_Similarity_Linalg: Content S structure has 69352 out of 231010 ( 30.02%) nonzero collaborative cells\n",
      "CFW_D_Similarity_Linalg: Nonzero collaborative cell sum is: 3.13E+04, average is: 4.52E-01, average over all collaborative data is 1.72E-01\n",
      "Similarity column 20635 ( 100 % ), 4403.22 column/sec, elapsed time 0.08 min\n",
      "SequentialEvaluator: Processed 7001 ( 70.01% ) in 30.23 seconds. Users per second: 232\n",
      "SequentialEvaluator: Processed 10000 ( 100.00% ) in 37.62 seconds. Users per second: 266\n",
      "BayesianSearch: Config is suboptimal. Config: {'add_zeros_quota': 0.06796033509844401, 'normalize_similarity': True, 'topK': 200, 'epochs': 0, 'max_epochs': 0} - results: {'MAP': 0.04378536399281927, 'PRECISION': 0.09463369047619091, 'RECALL': 0.09398252851508689}\n",
      "\n",
      "| \u001b[0m 5       \u001b[0m | \u001b[0m 0.04379 \u001b[0m | \u001b[0m 0.06796 \u001b[0m | \u001b[0m 0.07727 \u001b[0m | \u001b[0m 5.597   \u001b[0m |\n",
      "BayesianSearch: Testing config: {'add_zeros_quota': 0.012070141028847181, 'normalize_similarity': False, 'topK': 5}\n",
      "CFW_D_Similarity_Linalg: Generating train data\n",
      "Similarity column 20635 ( 100 % ), 9687.35 column/sec, elapsed time 0.04 min\n",
      "CFW_D_Similarity_Linalg: Collaborative S density: 9.46E-04, nonzero cells 402784\n",
      "CFW_D_Similarity_Linalg: Content S density: 1.62E-04, nonzero cells 68974\n",
      "CFW_D_Similarity_Linalg: Content S structure has 30661 out of 68974 ( 44.45%) nonzero collaborative cells\n",
      "CFW_D_Similarity_Linalg: Nonzero collaborative cell sum is: 7.24E+03, average is: 2.36E-01, average over all collaborative data is 1.72E-01\n",
      "Similarity column 20635 ( 100 % ), 8957.54 column/sec, elapsed time 0.04 min\n",
      "SequentialEvaluator: Processed 9001 ( 90.01% ) in 31.49 seconds. Users per second: 286\n",
      "SequentialEvaluator: Processed 10000 ( 100.00% ) in 31.81 seconds. Users per second: 314\n",
      "BayesianSearch: Config is suboptimal. Config: {'add_zeros_quota': 0.012070141028847181, 'normalize_similarity': False, 'topK': 5, 'epochs': 0, 'max_epochs': 0} - results: {'MAP': 0.04528928196649018, 'PRECISION': 0.09669757936508006, 'RECALL': 0.09598388117386623}\n",
      "\n",
      "| \u001b[0m 6       \u001b[0m | \u001b[0m 0.04529 \u001b[0m | \u001b[0m 0.01207 \u001b[0m | \u001b[0m 0.9899  \u001b[0m | \u001b[0m 0.001503\u001b[0m |\n",
      "BayesianSearch: Testing config: {'add_zeros_quota': 0.8758212128382549, 'normalize_similarity': True, 'topK': 5}\n",
      "CFW_D_Similarity_Linalg: Generating train data\n",
      "Similarity column 20635 ( 100 % ), 11420.24 column/sec, elapsed time 0.03 min\n",
      "CFW_D_Similarity_Linalg: Collaborative S density: 9.46E-04, nonzero cells 402784\n",
      "CFW_D_Similarity_Linalg: Content S density: 1.62E-04, nonzero cells 68974\n",
      "CFW_D_Similarity_Linalg: Content S structure has 30661 out of 68974 ( 44.45%) nonzero collaborative cells\n",
      "CFW_D_Similarity_Linalg: Nonzero collaborative cell sum is: 1.45E+04, average is: 4.72E-01, average over all collaborative data is 1.72E-01\n",
      "Similarity column 20635 ( 100 % ), 5102.16 column/sec, elapsed time 0.07 min\n",
      "SequentialEvaluator: Processed 8001 ( 80.01% ) in 31.60 seconds. Users per second: 253\n",
      "SequentialEvaluator: Processed 10000 ( 100.00% ) in 35.12 seconds. Users per second: 285\n",
      "BayesianSearch: New best config found. Config: {'add_zeros_quota': 0.8758212128382549, 'normalize_similarity': True, 'topK': 5, 'epochs': 0, 'max_epochs': 0} - results: {'MAP': 0.04867278513164511, 'PRECISION': 0.10356003968254052, 'RECALL': 0.10282789059581698}\n",
      "\n",
      "BayesianSearch: Saving model in result_experiments/ICM_genres/CFW_D_Similarity_Linalg\n",
      "\n",
      "CFW_D_Similarity_Linalg: Saving model in file 'result_experiments/ICM_genres/CFW_D_Similarity_Linalg_best_model'\n",
      "CFW_D_Similarity_Linalg: Saving complete\n",
      "CFW_D_Similarity_Linalg: Loading model from file 'result_experiments/ICM_genres/CFW_D_Similarity_Linalg_best_model'\n",
      "CFW_D_Similarity_Linalg: Loading complete\n",
      "SequentialEvaluator: Processed 10000 ( 100.00% ) in 28.63 seconds. Users per second: 349\n",
      "BayesianSearch: Best result evaluated on URM_test. Config: {'add_zeros_quota': 0.8758212128382549, 'normalize_similarity': True, 'topK': 5, 'epochs': 0, 'max_epochs': 0} - results: MAP: 0.0486728, PRECISION: 0.1035600, RECALL: 0.1028279, \n",
      "\n",
      "| \u001b[95m 7       \u001b[0m | \u001b[95m 0.04867 \u001b[0m | \u001b[95m 0.8758  \u001b[0m | \u001b[95m 0.001694\u001b[0m | \u001b[95m 0.002011\u001b[0m |\n",
      "=============================================================\n"
     ]
    },
    {
     "ename": "TypeError",
     "evalue": "list indices must be integers or slices, not str",
     "output_type": "error",
     "traceback": [
      "\u001b[0;31m---------------------------------------------------------------------------\u001b[0m",
      "\u001b[0;31mTypeError\u001b[0m                                 Traceback (most recent call last)",
      "\u001b[0;32m<ipython-input-34-54e7dea08007>\u001b[0m in \u001b[0;36m<module>\u001b[0;34m\u001b[0m\n\u001b[1;32m     47\u001b[0m                                                  \u001b[0mn_cases\u001b[0m \u001b[0;34m=\u001b[0m \u001b[0mn_cases\u001b[0m\u001b[0;34m,\u001b[0m\u001b[0;34m\u001b[0m\u001b[0m\n\u001b[1;32m     48\u001b[0m                                                  \u001b[0moutput_root_path\u001b[0m \u001b[0;34m=\u001b[0m \u001b[0moutput_root_path\u001b[0m\u001b[0;34m,\u001b[0m\u001b[0;34m\u001b[0m\u001b[0m\n\u001b[0;32m---> 49\u001b[0;31m                                                  metric=metric_to_optimize)\n\u001b[0m\u001b[1;32m     50\u001b[0m \u001b[0;34m\u001b[0m\u001b[0m\n",
      "\u001b[0;32m~/dev/PolimiRecSys2018/parameter_tuning/BayesianSearch.py\u001b[0m in \u001b[0;36msearch\u001b[0;34m(self, dictionary, metric, init_points, n_cases, output_root_path, parallelPoolSize, parallelize, save_model)\u001b[0m\n\u001b[1;32m     93\u001b[0m \u001b[0;34m\u001b[0m\u001b[0m\n\u001b[1;32m     94\u001b[0m         \u001b[0mself\u001b[0m\u001b[0;34m.\u001b[0m\u001b[0mbayesian_optimizer\u001b[0m\u001b[0;34m.\u001b[0m\u001b[0mmaximize\u001b[0m\u001b[0;34m(\u001b[0m\u001b[0minit_points\u001b[0m\u001b[0;34m=\u001b[0m\u001b[0minit_points\u001b[0m\u001b[0;34m,\u001b[0m \u001b[0mn_iter\u001b[0m\u001b[0;34m=\u001b[0m\u001b[0mn_cases\u001b[0m\u001b[0;34m,\u001b[0m \u001b[0mkappa\u001b[0m\u001b[0;34m=\u001b[0m\u001b[0;36m2\u001b[0m\u001b[0;34m)\u001b[0m\u001b[0;34m\u001b[0m\u001b[0m\n\u001b[0;32m---> 95\u001b[0;31m         \u001b[0mbest_solution\u001b[0m \u001b[0;34m=\u001b[0m \u001b[0mself\u001b[0m\u001b[0;34m.\u001b[0m\u001b[0mbayesian_optimizer\u001b[0m\u001b[0;34m.\u001b[0m\u001b[0mres\u001b[0m\u001b[0;34m[\u001b[0m\u001b[0;34m'max'\u001b[0m\u001b[0;34m]\u001b[0m\u001b[0;34m\u001b[0m\u001b[0m\n\u001b[0m\u001b[1;32m     96\u001b[0m         \u001b[0mself\u001b[0m\u001b[0;34m.\u001b[0m\u001b[0mbest_solution_val\u001b[0m \u001b[0;34m=\u001b[0m \u001b[0mbest_solution\u001b[0m\u001b[0;34m[\u001b[0m\u001b[0;34m\"max_val\"\u001b[0m\u001b[0;34m]\u001b[0m\u001b[0;34m\u001b[0m\u001b[0m\n\u001b[1;32m     97\u001b[0m         \u001b[0mself\u001b[0m\u001b[0;34m.\u001b[0m\u001b[0mbest_solution_parameters\u001b[0m \u001b[0;34m=\u001b[0m \u001b[0mbest_solution\u001b[0m\u001b[0;34m[\u001b[0m\u001b[0;34m\"max_params\"\u001b[0m\u001b[0;34m]\u001b[0m\u001b[0;34m.\u001b[0m\u001b[0mcopy\u001b[0m\u001b[0;34m(\u001b[0m\u001b[0;34m)\u001b[0m\u001b[0;34m\u001b[0m\u001b[0m\n",
      "\u001b[0;31mTypeError\u001b[0m: list indices must be integers or slices, not str"
     ]
    }
   ],
   "source": [
    "from parameter_tuning.BayesianSearch import BayesianSearch\n",
    "from parameter_tuning.AbstractClassSearch import DictionaryKeys\n",
    "\n",
    "from parameter_tuning.AbstractClassSearch import EvaluatorWrapper\n",
    "\n",
    "\n",
    "evaluator_validation_tuning = EvaluatorWrapper(evaluator_validation)\n",
    "evaluator_test_tuning = EvaluatorWrapper(evaluator_test)\n",
    "\n",
    "\n",
    "recommender_class = CFW_D_Similarity_Linalg\n",
    "\n",
    "parameterSearch = BayesianSearch(recommender_class,\n",
    "                                 evaluator_validation=evaluator_validation_tuning,\n",
    "                                 evaluator_test=evaluator_test_tuning)\n",
    "\n",
    "\n",
    "hyperparamethers_range_dictionary = {}\n",
    "hyperparamethers_range_dictionary[\"topK\"] = [5, 10, 20, 50, 100, 150, 200, 300, 400, 500, 600, 700, 800]\n",
    "hyperparamethers_range_dictionary[\"add_zeros_quota\"] = range(0,1)\n",
    "hyperparamethers_range_dictionary[\"normalize_similarity\"] = [True, False]\n",
    "\n",
    "\n",
    "\n",
    "recommenderDictionary = {DictionaryKeys.CONSTRUCTOR_POSITIONAL_ARGS: [data_reader.URM_train, ICM, W_sparse_CF],\n",
    "                         DictionaryKeys.CONSTRUCTOR_KEYWORD_ARGS: {},\n",
    "                         DictionaryKeys.FIT_POSITIONAL_ARGS: dict(),\n",
    "                         DictionaryKeys.FIT_KEYWORD_ARGS: dict(),\n",
    "                         DictionaryKeys.FIT_RANGE_KEYWORD_ARGS: hyperparamethers_range_dictionary}\n",
    "\n",
    "\n",
    "output_root_path = \"result_experiments/ICM_genres/\"\n",
    "\n",
    "import os\n",
    "\n",
    "# If directory does not exist, create\n",
    "if not os.path.exists(output_root_path):\n",
    "    os.makedirs(output_root_path)\n",
    "\n",
    "    \n",
    "output_root_path += recommender_class.RECOMMENDER_NAME      \n",
    "    \n",
    "n_cases = 20\n",
    "metric_to_optimize = \"MAP\"\n",
    "\n",
    "best_parameters_CFW_D = parameterSearch.search(recommenderDictionary,\n",
    "                                                 n_cases = n_cases,\n",
    "                                                 output_root_path = output_root_path,\n",
    "                                                 metric=metric_to_optimize)\n",
    "\n"
   ]
  },
  {
   "cell_type": "code",
   "execution_count": null,
   "metadata": {},
   "outputs": [],
   "source": []
  }
 ],
 "metadata": {
  "kernelspec": {
   "display_name": "Python 3",
   "language": "python",
   "name": "python3"
  },
  "language_info": {
   "codemirror_mode": {
    "name": "ipython",
    "version": 3
   },
   "file_extension": ".py",
   "mimetype": "text/x-python",
   "name": "python",
   "nbconvert_exporter": "python",
   "pygments_lexer": "ipython3",
   "version": "3.6.6"
  }
 },
 "nbformat": 4,
 "nbformat_minor": 2
}
